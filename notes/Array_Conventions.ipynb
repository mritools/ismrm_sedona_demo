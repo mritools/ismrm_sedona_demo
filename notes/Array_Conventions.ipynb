{
 "cells": [
  {
   "cell_type": "markdown",
   "metadata": {},
   "source": [
    "Array Storage Order\n",
    "===================\n",
    "In Python (and C), n-dimensional arrays are typically stored in row-major order, whereas `Fortran` or `Matlab` default to column-major ordering.  `mrrt.mri` uses the Fortran (column-major) ordering convention to better match other similar MRI toolboxes such as Gadgetron, the Berkley Advanced Reconstruction Toolbox (BART), and the Michigan Image Reconstruction Toolbox (MIRT).\n",
    "\n",
    "For an array stored in contiguous memory, column major order means that the elements along the first dimension of the array are adjacent in memory while those along the last axis are the farthest appart.  This is particularly important to remember when reshaping arrays.  Functions such as `ravel` and `reshape` in the `NumPy` package assume C (row-major) ordering by default.  To get the desired Fortran ordering, one must pass `order='F'` to these functions.\n",
    "\n",
    "So for the following 2D matrix of shape (3, 2) (axis 0 is displayed vertically):\n",
    "$$a = \\begin{bmatrix} 1 & 4 \\\\ 2 & 5 \\\\ 3 & 6 \\end{bmatrix}$$\n",
    "\n",
    "Calling `numpy.ravel(a, order='F')` would create the following 1D vector.\n",
    "$$\\begin{bmatrix} 1 & 2 & 3 & 4 & 5 & 6 \\end{bmatrix}$$\n",
    "(note that the output of ravel will have a shape that is (6, ) so it is not specifically a column or row vector)\n",
    "\n",
    "If the array was originally created with Fortran ordering, this also corresponds to the order of the elements of the original array in memory.\n",
    "\n",
    "Calling `numpy.ravel(a, order='C')` would create the following 1D vector.\n",
    "$$\\begin{bmatrix} 1 & 4 & 2 & 5 & 3 & 6 \\end{bmatrix}$$\n",
    "\n",
    "An example illustrating array attributes revealing the ordering and strides of a numpy array is given below."
   ]
  },
  {
   "cell_type": "code",
   "execution_count": 2,
   "metadata": {},
   "outputs": [
    {
     "name": "stdout",
     "output_type": "stream",
     "text": [
      "a =\n",
      "[[1 4]\n",
      " [2 5]\n",
      " [3 6]]\n",
      "a.shape = (3, 2)\n",
      "\n",
      "a.flags:\n",
      "  C_CONTIGUOUS : False\n",
      "  F_CONTIGUOUS : True\n",
      "  OWNDATA : True\n",
      "  WRITEABLE : True\n",
      "  ALIGNED : True\n",
      "  UPDATEIFCOPY : False\n",
      "\n",
      "\n",
      "a = [1 2 3 4 5 6]\n",
      "a_raveled.flags:\n",
      "  C_CONTIGUOUS : True\n",
      "  F_CONTIGUOUS : True\n",
      "  OWNDATA : False\n",
      "  WRITEABLE : True\n",
      "  ALIGNED : True\n",
      "  UPDATEIFCOPY : False\n",
      "\n",
      "\n",
      "DTYPE & STRIDE INFO\n",
      "a.dtype = int64\n",
      "size of 1 element = 8 bytes\n",
      "shape = (3, 2)\n",
      "shape = (3, 2)\n",
      "strides = (8, 24) bytes\n",
      "strides = (1, 3) elements\n",
      "Fortran ordering -> strides are smallest along first dimension\n",
      "\n",
      "\n",
      "C-contiguous STRIDE INFO\n",
      "strides (C-order) = (16, 8) bytes\n",
      "strides (C-order) = (2, 1) elements\n",
      "c ordering -> strides are largest along first dimension\n"
     ]
    }
   ],
   "source": [
    "# small example\n",
    "import numpy as np\n",
    "a = np.asarray([[1, 4], [2, 5], [3, 6]], order='F')\n",
    "print(\"a =\")\n",
    "print(a)\n",
    "print('a.shape = {}\\n'.format(a.shape))\n",
    "print('a.flags:')\n",
    "print(a.flags)\n",
    "\n",
    "a_raveled = a.ravel(order='F')\n",
    "print(\"\\n\\na = {}\".format(a_raveled))\n",
    "print('a_raveled.flags:')\n",
    "print(a_raveled.flags)  # Note:  a 1D array is both C and Fortan-contiguous\n",
    "\n",
    "# size of 1 element of the array in bytes\n",
    "print(\"\\n\\nDTYPE & STRIDE INFO\")\n",
    "print(\"a.dtype = {}\".format(a.dtype))\n",
    "print(\"size of 1 element = {} bytes\".format(a.itemsize))\n",
    "print(\"shape = {}\".format(a.shape))\n",
    "print(\"shape = {}\".format(a.shape))\n",
    "print(\"strides = {} bytes\".format(a.strides))\n",
    "print(\"strides = {} elements\".format(tuple(np.asarray(a.strides)//a.itemsize)))\n",
    "print(\"Fortran ordering -> strides are smallest along first dimension\")\n",
    "\n",
    "# now convert to C-ordering\n",
    "a = np.ascontiguousarray(a)\n",
    "print(\"\\n\\nC-contiguous STRIDE INFO\")\n",
    "print(\"strides (C-order) = {} bytes\".format(a.strides))\n",
    "print(\"strides (C-order) = {} elements\".format(tuple(np.asarray(a.strides)//a.itemsize)))\n",
    "print(\"c ordering -> strides are largest along first dimension\")\n"
   ]
  },
  {
   "cell_type": "markdown",
   "metadata": {},
   "source": [
    "Summary of some related numpy functions\n",
    "=======================================\n",
    "\n",
    "convert between memory layouts\n",
    "------------------------------\n",
    "\n",
    "- **np.ascontiguousarray** | convert array to C order \n",
    "- **np.asfortranarray**    | convert array to F order\n",
    "\n",
    "\n",
    "reshaping\n",
    "---------\n",
    "\n",
    "- **np.reshape**           | reshape an array\n",
    "- **np.ravel**             | ravel an nd-array to 1D\n",
    "- **np.ravel_multi_index** | convert from nd-indices to a 1D flat index\n",
    "- **np.unravel_index**     | convert from a 1D flat index to a nd-index\n",
    "\n",
    "combining arrays\n",
    "----------------\n",
    "\n",
    "- **np.concatenate** | concatenate arrays along any existing axis\n",
    "- **np.hstack**      | stack a sequence of arrays along the first axis\n",
    "- **np.vstack**      | stack  a sequence of arrays along the second axis\n",
    "- **np.stack**       | stack a sequence of n-dimensional arrays into an (n+1)-dim. array\n"
   ]
  },
  {
   "cell_type": "markdown",
   "metadata": {},
   "source": [
    "Conventions for MR k-space data dimensions\n",
    "=====================================\n",
    "\n",
    "3D images are assumed to be ordered as (x, y, z).  When there are multiple coils and dynamics, ordering would be\n",
    "\n",
    "`(x, y, z, coils, dynamics)`\n",
    "\n",
    "For the 2D case this would be just:\n",
    "\n",
    "`(x, y, coils, dynamics)`\n",
    "\n",
    "Here 'dynamics' could be any number of additional dimensions corresponding to echos, segments, repetitions, etc.\n",
    "\n",
    "The linear operators in `mrrt.mri` will automatically reshape data as needed. If the data is already Fortran-ordered, this will typically not involve making a copy."
   ]
  },
  {
   "cell_type": "markdown",
   "metadata": {
    "collapsed": true
   },
   "source": [
    "k-space trajectory dimensions and units\n",
    "================================\n",
    "kspace coordinates should be stored in a (Fortran-ordered) 2d array of shape (nsamples, ndim) where e.g. `ndim = 2` for 2D and `ndim = 3` for 3D\n",
    "\n",
    "if the field-of-view (FOV) is specified in mm then the kspace should be in units 1/mm\n",
    "The use of physical units for the k-space is consistent with the Michigan Image Reconstruction Toolbox, but differs from some other packages which use k-space normalized to the range [-0.5, 0.5] or [-N/2, N/2]."
   ]
  },
  {
   "cell_type": "markdown",
   "metadata": {},
   "source": [
    "Conventions for coil sensitivity map dimensions\n",
    "===============================================\n",
    "Assume a 4d map of coil sensitivities of shape (nx, ny, nz, ncoils).\n",
    "\n",
    "This should be reshaped into a 2D Fortran-ordered array of shape (nx*ny*nz, ncoils). This can be done as\n",
    "\n",
    "```Python\n",
    "coil_sensitivties = cmap4d.reshape((-1, ncoils), order='F')\n",
    "```"
   ]
  },
  {
   "cell_type": "code",
   "execution_count": null,
   "metadata": {},
   "outputs": [],
   "source": []
  }
 ],
 "metadata": {
  "kernelspec": {
   "display_name": "Python 3",
   "language": "python",
   "name": "python3"
  },
  "language_info": {
   "codemirror_mode": {
    "name": "ipython",
    "version": 3
   },
   "file_extension": ".py",
   "mimetype": "text/x-python",
   "name": "python",
   "nbconvert_exporter": "python",
   "pygments_lexer": "ipython3",
   "version": "3.7.6"
  }
 },
 "nbformat": 4,
 "nbformat_minor": 1
}
